{
 "cells": [
  {
   "cell_type": "code",
   "execution_count": 1,
   "id": "a7404025",
   "metadata": {},
   "outputs": [],
   "source": [
    "#Import the random module.\n",
    "\n",
    "import random\n"
   ]
  },
  {
   "cell_type": "code",
   "execution_count": 2,
   "id": "421dea0f",
   "metadata": {},
   "outputs": [
    {
     "data": {
      "text/plain": [
       "0.10726184175539655"
      ]
     },
     "execution_count": 2,
     "metadata": {},
     "output_type": "execute_result"
    }
   ],
   "source": [
    "random.random()"
   ]
  },
  {
   "cell_type": "code",
   "execution_count": 3,
   "id": "1d185a0e",
   "metadata": {},
   "outputs": [
    {
     "data": {
      "text/plain": [
       "-11"
      ]
     },
     "execution_count": 3,
     "metadata": {},
     "output_type": "execute_result"
    }
   ],
   "source": [
    "random.randint(-90, 90)"
   ]
  },
  {
   "cell_type": "code",
   "execution_count": 4,
   "id": "14d92d9e",
   "metadata": {},
   "outputs": [
    {
     "data": {
      "text/plain": [
       "-24.493847301620697"
      ]
     },
     "execution_count": 4,
     "metadata": {},
     "output_type": "execute_result"
    }
   ],
   "source": [
    "random_number = random.randint(-90, 89) + random.random()\n",
    "random_number"
   ]
  },
  {
   "cell_type": "code",
   "execution_count": 5,
   "id": "f92313f4",
   "metadata": {},
   "outputs": [],
   "source": [
    "x = 1\n",
    "latitudes = []\n",
    "while x < 11:\n",
    "    random_lat = random.randint(-90, 89) + random.random()\n",
    "    latitudes.append(random_lat)\n",
    "    x += 1"
   ]
  },
  {
   "cell_type": "code",
   "execution_count": 6,
   "id": "d2e9e176",
   "metadata": {},
   "outputs": [
    {
     "data": {
      "text/plain": [
       "[7.167594481636154,\n",
       " -59.314484791965704,\n",
       " -32.83794568400439,\n",
       " -12.381137748936649,\n",
       " -68.99966195565841,\n",
       " 51.816117396494626,\n",
       " -4.851275383207811,\n",
       " -51.46864257597814,\n",
       " -8.895265388049296,\n",
       " -22.52097710446295]"
      ]
     },
     "execution_count": 6,
     "metadata": {},
     "output_type": "execute_result"
    }
   ],
   "source": [
    "latitudes"
   ]
  },
  {
   "cell_type": "code",
   "execution_count": 7,
   "id": "540f61cb",
   "metadata": {},
   "outputs": [
    {
     "data": {
      "text/plain": [
       "-81"
      ]
     },
     "execution_count": 7,
     "metadata": {},
     "output_type": "execute_result"
    }
   ],
   "source": [
    "random.randrange(-90, 90, step=1)"
   ]
  },
  {
   "cell_type": "code",
   "execution_count": 8,
   "id": "d832ba7e",
   "metadata": {},
   "outputs": [
    {
     "data": {
      "text/plain": [
       "-39"
      ]
     },
     "execution_count": 8,
     "metadata": {},
     "output_type": "execute_result"
    }
   ],
   "source": [
    "random.randrange(-90, 90, step=3)"
   ]
  },
  {
   "cell_type": "code",
   "execution_count": 9,
   "id": "d06ca1ec",
   "metadata": {},
   "outputs": [
    {
     "data": {
      "text/plain": [
       "25.354448430316253"
      ]
     },
     "execution_count": 9,
     "metadata": {},
     "output_type": "execute_result"
    }
   ],
   "source": [
    "random.uniform(-90, 90)"
   ]
  },
  {
   "cell_type": "code",
   "execution_count": 10,
   "id": "a7c8e049",
   "metadata": {},
   "outputs": [],
   "source": [
    "# Import the NumPy module.\n",
    "import numpy as np"
   ]
  },
  {
   "cell_type": "code",
   "execution_count": 11,
   "id": "0bddb942",
   "metadata": {},
   "outputs": [
    {
     "data": {
      "text/plain": [
       "0.9746303503986269"
      ]
     },
     "execution_count": 11,
     "metadata": {},
     "output_type": "execute_result"
    }
   ],
   "source": [
    "np.random.uniform(-90.000, 90.000)"
   ]
  },
  {
   "cell_type": "code",
   "execution_count": 13,
   "id": "b711e936",
   "metadata": {},
   "outputs": [
    {
     "data": {
      "text/plain": [
       "array([-2.14316523e+00,  2.89628689e+01, -2.50850624e+01,  1.37409299e+01,\n",
       "        3.58475872e+01,  3.38779430e+01, -7.52669192e+00,  4.06988040e+01,\n",
       "       -1.32100610e+01, -3.79070543e+01,  7.39207119e+01,  8.34087908e+01,\n",
       "       -6.14973503e-02,  3.46181472e+01, -8.69008752e+01, -1.41877082e+01,\n",
       "        1.31195749e+01,  8.94691085e+01,  5.23652973e+01, -7.95167090e+01,\n",
       "       -2.04067367e+00, -8.72149236e+01,  8.11655409e+01,  3.50037722e+01,\n",
       "       -7.83978250e+01, -2.88931933e+01, -2.89816022e+01,  6.82680954e+01,\n",
       "        1.70727088e+01,  3.75586684e+01, -2.79198095e+01,  4.41044240e+00,\n",
       "       -4.22209812e+01,  7.27282811e+01,  3.16533301e+01, -6.15797823e+01,\n",
       "        8.14330903e+01, -6.71526371e+00, -1.56877166e+01,  2.67394108e+01,\n",
       "        5.76474345e+01, -1.74696958e-01,  8.81569318e+01,  3.14829329e+01,\n",
       "       -6.45794687e+00,  6.34391748e+01,  6.79050564e+01, -6.19478009e+01,\n",
       "        8.78905728e+00,  4.91967051e+01])"
      ]
     },
     "execution_count": 13,
     "metadata": {},
     "output_type": "execute_result"
    }
   ],
   "source": [
    "np.random.uniform(-90.000, 90.000, size=50)"
   ]
  },
  {
   "cell_type": "code",
   "execution_count": 14,
   "id": "f9ab5939",
   "metadata": {},
   "outputs": [],
   "source": [
    "# Import timeit.\n",
    "import timeit"
   ]
  },
  {
   "cell_type": "code",
   "execution_count": 15,
   "id": "8c9cc724",
   "metadata": {},
   "outputs": [
    {
     "name": "stdout",
     "output_type": "stream",
     "text": [
      "13.7 µs ± 280 ns per loop (mean ± std. dev. of 7 runs, 100000 loops each)\n"
     ]
    }
   ],
   "source": [
    "%timeit np.random.uniform(-90.000, 90.000, size=1500)"
   ]
  },
  {
   "cell_type": "code",
   "execution_count": 16,
   "id": "1a5a99fb",
   "metadata": {},
   "outputs": [
    {
     "name": "stdout",
     "output_type": "stream",
     "text": [
      "1.92 ms ± 137 µs per loop (mean ± std. dev. of 7 runs, 1000 loops each)\n"
     ]
    }
   ],
   "source": [
    "def latitudes(size):\n",
    "    latitudes = []\n",
    "    x = 0\n",
    "    while x < (size):\n",
    "        random_lat = random.randint(-90, 90) + random.random()\n",
    "        latitudes.append(random_lat)\n",
    "        x += 1\n",
    "    return latitudes\n",
    "# Call the function with 1500.\n",
    "%timeit latitudes(1500)"
   ]
  },
  {
   "cell_type": "code",
   "execution_count": null,
   "id": "5f93d9b3",
   "metadata": {},
   "outputs": [],
   "source": []
  }
 ],
 "metadata": {
  "kernelspec": {
   "display_name": "PythonData",
   "language": "python",
   "name": "pythondata"
  },
  "language_info": {
   "codemirror_mode": {
    "name": "ipython",
    "version": 3
   },
   "file_extension": ".py",
   "mimetype": "text/x-python",
   "name": "python",
   "nbconvert_exporter": "python",
   "pygments_lexer": "ipython3",
   "version": "3.7.11"
  }
 },
 "nbformat": 4,
 "nbformat_minor": 5
}
